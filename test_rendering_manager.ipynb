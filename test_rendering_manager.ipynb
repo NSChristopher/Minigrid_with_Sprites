{
 "cells": [
  {
   "cell_type": "code",
   "execution_count": 7,
   "metadata": {},
   "outputs": [],
   "source": [
    "import gymnasium as gym\n",
    "from minigrid.envs import FourRoomsEnv, LavaGapEnv, LockedRoomEnv\n",
    "import time\n",
    "from minigrid.rendering.rendering_manager import RenderingManager\n",
    "from minigrid.rendering.smooth_rendering_manager import SmoothRenderingManager\n",
    "import numpy as np\n",
    "\n",
    "env = FourRoomsEnv(render_mode='human', rendering_manager=SmoothRenderingManager)\n",
    "\n",
    "observation, info = env.reset()\n",
    "for _ in range(100):\n",
    "\n",
    "    rand = np.random.rand()\n",
    "    action = 2\n",
    "\n",
    "    if rand < 0.5:\n",
    "        action = env.action_space.sample()\n",
    "\n",
    "    observation, reward, terminated, truncated, info = env.step(action)\n",
    "\n",
    "    if terminated or truncated:\n",
    "        observation, info = env.reset()\n",
    "\n",
    "    # pause for a few milliseconds before rendering the next frame\n",
    "    time.sleep(0.1)\n",
    "    \n",
    "env.close()\n"
   ]
  },
  {
   "cell_type": "code",
   "execution_count": null,
   "metadata": {},
   "outputs": [
    {
     "name": "stdout",
     "output_type": "stream",
     "text": [
      "[8, 7, 6, 5, 4]\n"
     ]
    }
   ],
   "source": [
    "# testing indexing\n",
    "\n",
    "nums = [1, 2, 3, 4, 5, 6, 7, 8]\n",
    "\n",
    "# print 8, 1, 2 using slicing\n",
    "print(nums[-1], nums[0], nums[1])"
   ]
  },
  {
   "cell_type": "code",
   "execution_count": null,
   "metadata": {},
   "outputs": [
    {
     "name": "stdout",
     "output_type": "stream",
     "text": [
      "w w w w w w w w w w w w w w w w w w w \n",
      "w             w       w             w \n",
      "w             w       w             w \n",
      "w             d       d   k         w \n",
      "w             w       w             w \n",
      "w             w       w             w \n",
      "w w w w w w w w       w w w w w w w w \n",
      "w             w       w           g w \n",
      "w             w       w             w \n",
      "w             d       d             w \n",
      "w             w       w             w \n",
      "w             w       w             w \n",
      "w w w w w w w w       w w w w w w w w \n",
      "w             w       w             w \n",
      "w             w       w             w \n",
      "w             d       d             w \n",
      "w             w       w             w \n",
      "w             w       w             w \n",
      "w w w w w w w w w w w w w w w w w w w \n"
     ]
    }
   ],
   "source": [
    "grid = env.grid\n",
    "\n",
    "width = grid.width\n",
    "height = grid.height\n",
    "\n",
    "for j in range(height):\n",
    "    for i in range(width):\n",
    "        cell = grid.get(i, j)\n",
    "        if cell is None:\n",
    "            print(' ', end=' ')\n",
    "        else:\n",
    "            print(cell.type[0], end=' ')\n",
    "    print()"
   ]
  },
  {
   "cell_type": "code",
   "execution_count": null,
   "metadata": {},
   "outputs": [],
   "source": [
    "# delete all running pyglet processes\n",
    "import os\n",
    "import signal\n",
    "import psutil\n",
    "for proc in psutil.process_iter():\n",
    "    if proc.name() == \"python\" and \"pyglet\" in \" \".join(proc.cmdline()):\n",
    "        os.kill(proc.pid, signal.SIGKILL)"
   ]
  },
  {
   "cell_type": "code",
   "execution_count": null,
   "metadata": {},
   "outputs": [
    {
     "name": "stdout",
     "output_type": "stream",
     "text": [
      "0 0 0 \n",
      "0 2 2 \n",
      "0 2 0 \n"
     ]
    }
   ],
   "source": [
    "obj = env.grid.get(0,0)\n",
    "\n",
    "obj.renderer.print_proximity_encoding()"
   ]
  },
  {
   "cell_type": "code",
   "execution_count": null,
   "metadata": {},
   "outputs": [
    {
     "ename": "NameError",
     "evalue": "name 'pyglet' is not defined",
     "output_type": "error",
     "traceback": [
      "\u001b[0;31m---------------------------------------------------------------------------\u001b[0m",
      "\u001b[0;31mNameError\u001b[0m                                 Traceback (most recent call last)",
      "Cell \u001b[0;32mIn[2], line 1\u001b[0m\n\u001b[0;32m----> 1\u001b[0m \u001b[43mpyglet\u001b[49m\u001b[38;5;241m.\u001b[39mapp\u001b[38;5;241m.\u001b[39mexit()\n",
      "\u001b[0;31mNameError\u001b[0m: name 'pyglet' is not defined"
     ]
    }
   ],
   "source": [
    "pyglet.app.exit()"
   ]
  },
  {
   "cell_type": "code",
   "execution_count": null,
   "metadata": {},
   "outputs": [],
   "source": [
    "import pyglet as pg\n",
    "\n",
    "# Create a window\n",
    "window = pg.window.Window()\n",
    "\n",
    "# Create a label\n",
    "label = pg.text.Label('Hello, world',\n",
    "                      font_name='Times New Roman',\n",
    "                      font_size=36,\n",
    "                      x=window.width // 2, y=window.height // 2,\n",
    "                      anchor_x='center', anchor_y='center')\n",
    "\n",
    "# Sprite with basic image\n",
    "image = pg.image.load('figures/sprites/Chest_Open_Filled.png')\n",
    "sprite = pg.sprite.Sprite(image, x=100, y=0)\n",
    "\n",
    "# Load the sprite sheet\n",
    "chest_opening_sheet = pg.image.load('figures/sprites/Chest_Open_Empty.png')\n",
    "\n",
    "# Create animation frames\n",
    "frames = []\n",
    "for i in range(4):\n",
    "    frame_image = chest_opening_sheet.get_region(i * 16, 0, 16, 16)\n",
    "    animation_frame = pg.image.AnimationFrame(frame_image, duration=0.1)  # Set a duration for each frame\n",
    "    frames.append(animation_frame)\n",
    "\n",
    "# Create animation\n",
    "animation = pg.image.Animation(frames)\n",
    "\n",
    "# Create animated sprite\n",
    "anim_sprite = pg.sprite.Sprite(animation, x=200, y=0)\n",
    "\n",
    "# Function to render all sprites\n",
    "def render_sprites():\n",
    "    window.clear()\n",
    "    label.draw()\n",
    "    sprite.draw()\n",
    "    anim_sprite.draw()\n",
    "\n",
    "# Event to draw the window\n",
    "@window.event\n",
    "def on_draw():\n",
    "    render_sprites()\n",
    "\n",
    "# Example of calling the render function\n",
    "def main_loop():\n",
    "    for _ in range(4):\n",
    "        render_sprites()\n",
    "        pg.clock.tick( 60 )\n",
    "\n",
    "# Run the application\n",
    "pg.app.run()\n",
    "\n",
    "# Call the main loop to render the sprites\n",
    "main_loop()"
   ]
  }
 ],
 "metadata": {
  "kernelspec": {
   "display_name": "venv",
   "language": "python",
   "name": "python3"
  },
  "language_info": {
   "codemirror_mode": {
    "name": "ipython",
    "version": 3
   },
   "file_extension": ".py",
   "mimetype": "text/x-python",
   "name": "python",
   "nbconvert_exporter": "python",
   "pygments_lexer": "ipython3",
   "version": "3.12.1"
  }
 },
 "nbformat": 4,
 "nbformat_minor": 2
}
